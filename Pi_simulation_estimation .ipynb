{
  "metadata": {
    "kernelspec": {
      "name": "python",
      "display_name": "Python (Pyodide)",
      "language": "python"
    },
    "language_info": {
      "codemirror_mode": {
        "name": "python",
        "version": 3
      },
      "file_extension": ".py",
      "mimetype": "text/x-python",
      "name": "python",
      "nbconvert_exporter": "python",
      "pygments_lexer": "ipython3",
      "version": "3.8"
    }
  },
  "nbformat_minor": 4,
  "nbformat": 4,
  "cells": [
    {
      "cell_type": "code",
      "source": "import matplotlib.pyplot as plt\nimport matplotlib.patches as patches\nimport numpy as np\nimport imageio\nimport os\n\nn_iterations = 300\ndots=300\nnp.random.seed(2609)\nx, y = np.random.uniform(-1, 1, (n_iterations,dots)), np.random.uniform(-1, 1, (n_iterations,dots))\nz=(x**2)+(y**2)\ninside_square = np.full(n_iterations, dots)\ninside_circle=np.sum(z <= 1,axis=1)\npi=(np.cumsum(inside_circle)/np.cumsum(inside_square))*4\nfilenames = []\ndiv=np.arange(1,n_iterations+1)\n\nfor i in range(1, n_iterations + 1):\n    fig, axs = plt.subplots(2, 1, figsize=(10, 10))\n\n    fig.subplots_adjust(hspace=0.4)\n    \n    \n\n    # Add a square patch\n    square = patches.Rectangle((-1, -1), 2, 2, fill=False, color='blue', linewidth=2)\n    axs[0].add_patch(square)\n\n    # Add a circle patch\n    circle = patches.Circle((0, 0), radius=1, fill=False, color='red', linewidth=2)\n    axs[0].add_patch(circle)\n    \n    # Adding arrows\n    axs[0].annotate('', xy=(-1,-1.25), xytext=(1, -1.25), arrowprops=dict(arrowstyle='<->', color='black'))\n    axs[0].text(0, -1.23, '2 units', ha='center')\n\n    axs[0].annotate('', xy=(0,0), xytext=( np.cos(np.pi/4),  np.sin(np.pi/4)), arrowprops=dict(arrowstyle='<-', color='black'))\n    axs[0].text(0.1, 0.25, '1 unit', ha='center')\n\n    # Set limits and aspect\n    axs[0].set_xlim(-1.5, 1.5)\n    axs[0].set_ylim(-1.5, 1.5)\n    axs[0].set_aspect('equal', 'box')\n    \n    # Plots\n    axs[0].scatter(x[i-1],y[i-1],s=5)\n    axs[0].set_title(f'Simulation {i}/{n_iterations}')\n    axs[0].grid()\n    \n    axs[1].plot(div[:i], pi[:i], color='blue')\n    axs[1].plot(div[i-1], pi[i-1], color='r',marker='o')\n    plt.xlim(min(div)-10, max(div)+10)\n    plt.ylim(min(pi)-0.04, max(pi)+0.04)\n    axs[1].set_title(f'Estimation after Simulation {i}/{n_iterations}')\n    axs[1].set_xlabel(\"Iteration\")\n    axs[1].set_ylabel(\"Estimated Value\")\n    axs[1].axhline(y=np.pi, color='green', linestyle='dotted')\n    axs[1].text(10, 3.144, '$\\pi$', ha='center', fontsize=20)\n\n\n    axs[1].grid()\n\n    \n    filename = f'frames/step_{i}.png'\n    filenames.append(filename)\n    plt.savefig(filename)\n    plt.close()\n\n# Create GIF\nwith imageio.get_writer('pi_est.gif', mode='I', duration=0.1) as writer:\n    for filename in filenames:\n        image = imageio.imread(filename)\n        writer.append_data(image)\n\n# Clean up the frames\nfor filename in filenames:\n    os.remove(filename)\n\n",
      "metadata": {
        "scrolled": true,
        "trusted": true
      },
      "outputs": [],
      "execution_count": null
    }
  ]
}